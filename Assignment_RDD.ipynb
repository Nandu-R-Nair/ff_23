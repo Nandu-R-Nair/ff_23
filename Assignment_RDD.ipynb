{
 "cells": [
  {
   "cell_type": "code",
   "execution_count": 1,
   "metadata": {},
   "outputs": [],
   "source": [
    "import pandas as pd"
   ]
  },
  {
   "cell_type": "code",
   "execution_count": 6,
   "metadata": {},
   "outputs": [],
   "source": [
    "df = pd.read_csv('c://sharedfolder/spark/salestxns.tsv', sep='\\t')"
   ]
  },
  {
   "cell_type": "code",
   "execution_count": 7,
   "metadata": {},
   "outputs": [
    {
     "data": {
      "text/html": [
       "<div>\n",
       "<style scoped>\n",
       "    .dataframe tbody tr th:only-of-type {\n",
       "        vertical-align: middle;\n",
       "    }\n",
       "\n",
       "    .dataframe tbody tr th {\n",
       "        vertical-align: top;\n",
       "    }\n",
       "\n",
       "    .dataframe thead th {\n",
       "        text-align: right;\n",
       "    }\n",
       "</style>\n",
       "<table border=\"1\" class=\"dataframe\">\n",
       "  <thead>\n",
       "    <tr style=\"text-align: right;\">\n",
       "      <th></th>\n",
       "      <th>1</th>\n",
       "      <th>43</th>\n",
       "      <th>Camping &amp; Hiking</th>\n",
       "      <th>957</th>\n",
       "      <th>Diamondback Women's Serene Classic Comfort Bi</th>\n",
       "      <th>299.98</th>\n",
       "      <th>1.1</th>\n",
       "      <th>11599</th>\n",
       "    </tr>\n",
       "  </thead>\n",
       "  <tbody>\n",
       "    <tr>\n",
       "      <th>0</th>\n",
       "      <td>2</td>\n",
       "      <td>48</td>\n",
       "      <td>Water Sports</td>\n",
       "      <td>1073</td>\n",
       "      <td>Pelican Sunstream 100 Kayak</td>\n",
       "      <td>199.99</td>\n",
       "      <td>1</td>\n",
       "      <td>256</td>\n",
       "    </tr>\n",
       "    <tr>\n",
       "      <th>1</th>\n",
       "      <td>3</td>\n",
       "      <td>24</td>\n",
       "      <td>Women's Apparel</td>\n",
       "      <td>502</td>\n",
       "      <td>Nike Men's Dri-FIT Victory Golf Polo</td>\n",
       "      <td>50.00</td>\n",
       "      <td>5</td>\n",
       "      <td>256</td>\n",
       "    </tr>\n",
       "    <tr>\n",
       "      <th>2</th>\n",
       "      <td>4</td>\n",
       "      <td>18</td>\n",
       "      <td>Men's Footwear</td>\n",
       "      <td>403</td>\n",
       "      <td>Nike Men's CJ Elite 2 TD Football Cleat</td>\n",
       "      <td>129.99</td>\n",
       "      <td>1</td>\n",
       "      <td>256</td>\n",
       "    </tr>\n",
       "    <tr>\n",
       "      <th>3</th>\n",
       "      <td>5</td>\n",
       "      <td>40</td>\n",
       "      <td>Accessories</td>\n",
       "      <td>897</td>\n",
       "      <td>Team Golf New England Patriots Putter Grip</td>\n",
       "      <td>24.99</td>\n",
       "      <td>2</td>\n",
       "      <td>8827</td>\n",
       "    </tr>\n",
       "    <tr>\n",
       "      <th>4</th>\n",
       "      <td>6</td>\n",
       "      <td>17</td>\n",
       "      <td>Cleats</td>\n",
       "      <td>365</td>\n",
       "      <td>Perfect Fitness Perfect Rip Deck</td>\n",
       "      <td>59.99</td>\n",
       "      <td>5</td>\n",
       "      <td>8827</td>\n",
       "    </tr>\n",
       "  </tbody>\n",
       "</table>\n",
       "</div>"
      ],
      "text/plain": [
       "   1  43 Camping & Hiking   957 Diamondback Women's Serene Classic Comfort Bi  \\\n",
       "0  2  48     Water Sports  1073                   Pelican Sunstream 100 Kayak   \n",
       "1  3  24  Women's Apparel   502          Nike Men's Dri-FIT Victory Golf Polo   \n",
       "2  4  18   Men's Footwear   403       Nike Men's CJ Elite 2 TD Football Cleat   \n",
       "3  5  40      Accessories   897    Team Golf New England Patriots Putter Grip   \n",
       "4  6  17           Cleats   365              Perfect Fitness Perfect Rip Deck   \n",
       "\n",
       "   299.98  1.1  11599  \n",
       "0  199.99    1    256  \n",
       "1   50.00    5    256  \n",
       "2  129.99    1    256  \n",
       "3   24.99    2   8827  \n",
       "4   59.99    5   8827  "
      ]
     },
     "execution_count": 7,
     "metadata": {},
     "output_type": "execute_result"
    }
   ],
   "source": [
    "df.head()"
   ]
  },
  {
   "cell_type": "code",
   "execution_count": 8,
   "metadata": {},
   "outputs": [
    {
     "data": {
      "text/plain": [
       "(172197, 8)"
      ]
     },
     "execution_count": 8,
     "metadata": {},
     "output_type": "execute_result"
    }
   ],
   "source": [
    "df.shape"
   ]
  },
  {
   "cell_type": "code",
   "execution_count": null,
   "metadata": {},
   "outputs": [],
   "source": [
    "Txn Id\n",
    "Category Id\n",
    "Category Name\n",
    "Product Id \n",
    "Product Name \n",
    "Price\n",
    "Quantity\n",
    "Customer Id"
   ]
  },
  {
   "cell_type": "code",
   "execution_count": null,
   "metadata": {},
   "outputs": [],
   "source": [
    "Load the data as an RDD\n",
    "Find out the average sales in each category\n",
    "Find out the customer who  maximum & minimum spends\n",
    "Most selling category/product\n",
    "Least selling category/product"
   ]
  }
 ],
 "metadata": {
  "kernelspec": {
   "display_name": "Python 3",
   "language": "python",
   "name": "python3"
  },
  "language_info": {
   "codemirror_mode": {
    "name": "ipython",
    "version": 3
   },
   "file_extension": ".py",
   "mimetype": "text/x-python",
   "name": "python",
   "nbconvert_exporter": "python",
   "pygments_lexer": "ipython3",
   "version": "3.6.5"
  }
 },
 "nbformat": 4,
 "nbformat_minor": 2
}
